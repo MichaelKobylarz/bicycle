{
 "cells": [
  {
   "cell_type": "code",
   "execution_count": null,
   "id": "20f30d04-e4e0-4422-a2e8-afb73e61ae63",
   "metadata": {},
   "outputs": [],
   "source": [
    "import os\n",
    "import django\n",
    "os.environ.setdefault('DJANGO_SETTINGS_MODULE', 'intro.settings')\n",
    "os.environ[\"DJANGO_ALLOW_ASYNC_UNSAFE\"] = \"true\"\n",
    "django.setup()"
   ]
  },
  {
   "cell_type": "code",
   "execution_count": null,
   "id": "cd49cfaa-84ba-48f2-9656-adaf3bf2cad7",
   "metadata": {},
   "outputs": [],
   "source": [
    "from lin_app.models import Task"
   ]
  },
  {
   "cell_type": "code",
   "execution_count": null,
   "id": "c3d15527-478f-493a-8216-08a2a328068f",
   "metadata": {},
   "outputs": [],
   "source": []
  }
 ],
 "metadata": {
  "kernelspec": {
   "display_name": "Python 3 (ipykernel)",
   "language": "python",
   "name": "python3"
  },
  "language_info": {
   "codemirror_mode": {
    "name": "ipython",
    "version": 3
   },
   "file_extension": ".py",
   "mimetype": "text/x-python",
   "name": "python",
   "nbconvert_exporter": "python",
   "pygments_lexer": "ipython3",
   "version": "3.12.2"
  }
 },
 "nbformat": 4,
 "nbformat_minor": 5
}
