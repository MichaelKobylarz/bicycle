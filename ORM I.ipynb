{
 "cells": [
  {
   "cell_type": "markdown",
   "id": "6d82a546195bfff",
   "metadata": {
    "collapsed": false,
    "jupyter": {
     "outputs_hidden": false
    }
   },
   "source": []
  },
  {
   "cell_type": "code",
   "execution_count": 1,
   "id": "52c14e1d-26f4-486d-b7da-8b0789ec07ca",
   "metadata": {},
   "outputs": [],
   "source": [
    "import os\n",
    "import django\n",
    "os.environ.setdefault('DJANGO_SETTINGS_MODULE', 'bike.settings')\n",
    "os.environ[\"DJANGO_ALLOW_ASYNC_UNSAFE\"] = \"true\"\n",
    "django.setup()"
   ]
  },
  {
   "cell_type": "code",
   "execution_count": 2,
   "id": "ebfc0481-089b-487b-9d01-d35cd7bc8a5a",
   "metadata": {},
   "outputs": [],
   "source": [
    "from orm_app.models import Task"
   ]
  },
  {
   "cell_type": "code",
   "execution_count": 3,
   "id": "330bcc77-fcd7-4069-9939-8d55d3c5dedf",
   "metadata": {},
   "outputs": [],
   "source": [
    "res = Task.objects.create(name=\"Smażenie\")"
   ]
  },
  {
   "cell_type": "code",
   "execution_count": 4,
   "id": "e2692d4d-7110-43a8-8628-bfc0e12ad9c7",
   "metadata": {},
   "outputs": [],
   "source": [
    "    # Metoda II - metoda save instancji modelu\n",
    "\n",
    "task = Task()\n",
    "task.name = \"Pieczenie\"\n",
    "task.save()"
   ]
  },
  {
   "cell_type": "code",
   "execution_count": 5,
   "id": "08446b66-16c4-4b45-acbe-05c568894ede",
   "metadata": {},
   "outputs": [],
   "source": [
    "# W drugiej metodzie wartości parametrów można oczywiście przekazać w inicjalizatorze.\n",
    "\n",
    "task = Task(name=\"Gotowanie\")\n",
    "task.save()"
   ]
  },
  {
   "cell_type": "code",
   "execution_count": 6,
   "id": "0ac26ab4-ae67-4b47-ab3c-ece56f09ac6a",
   "metadata": {},
   "outputs": [
    {
     "data": {
      "text/plain": [
       "<Task: Task object (9)>"
      ]
     },
     "execution_count": 6,
     "metadata": {},
     "output_type": "execute_result"
    }
   ],
   "source": [
    "# Przed przejściem do litery R dodajmy jeszcze kilka wpisów do tabeli, żeby mieć \n",
    "# co analizować podczas poznawania metod implementujących instrukcje z rodziny READ.\n",
    "\n",
    "Task.objects.create(name=\"Szukanie\")\n",
    "Task.objects.create(name=\"Szukanie\")\n",
    "Task.objects.create(name=\"Programowanie\")\n",
    "Task.objects.create(name=\"Pływanie\")\n",
    "Task.objects.create(name=\"Pranie\")\n",
    "Task.objects.create(name=\"Dodawanie\")"
   ]
  },
  {
   "cell_type": "code",
   "execution_count": 7,
   "id": "ad0cf133-85a3-461d-95e5-a8b2e320f963",
   "metadata": {},
   "outputs": [
    {
     "name": "stdout",
     "output_type": "stream",
     "text": [
      "['__class__', '__class_getitem__', '__delattr__', '__dict__', '__dir__', '__doc__', '__eq__', '__format__', '__ge__', '__getattribute__', '__getstate__', '__gt__', '__hash__', '__init__', '__init_subclass__', '__le__', '__lt__', '__module__', '__ne__', '__new__', '__reduce__', '__reduce_ex__', '__repr__', '__setattr__', '__sizeof__', '__slotnames__', '__str__', '__subclasshook__', '__weakref__', '_constructor_args', '_db', '_get_queryset_methods', '_hints', '_insert', '_queryset_class', '_set_creation_counter', '_update', 'aaggregate', 'abulk_create', 'abulk_update', 'acontains', 'acount', 'acreate', 'aearliest', 'aexists', 'aexplain', 'afirst', 'aget', 'aget_or_create', 'aggregate', 'ain_bulk', 'aiterator', 'alast', 'alatest', 'alias', 'all', 'annotate', 'aupdate', 'aupdate_or_create', 'auto_created', 'bulk_create', 'bulk_update', 'check', 'complex_filter', 'contains', 'contribute_to_class', 'count', 'create', 'creation_counter', 'dates', 'datetimes', 'db', 'db_manager', 'deconstruct', 'defer', 'difference', 'distinct', 'earliest', 'exclude', 'exists', 'explain', 'extra', 'filter', 'first', 'from_queryset', 'get', 'get_or_create', 'get_queryset', 'in_bulk', 'intersection', 'iterator', 'last', 'latest', 'model', 'name', 'none', 'only', 'order_by', 'prefetch_related', 'raw', 'reverse', 'select_for_update', 'select_related', 'union', 'update', 'update_or_create', 'use_in_migrations', 'using', 'values', 'values_list']\n"
     ]
    }
   ],
   "source": [
    "print(dir(Task.objects))"
   ]
  },
  {
   "cell_type": "code",
   "execution_count": 8,
   "id": "ce684103-8104-4159-ae99-4b818265fc01",
   "metadata": {},
   "outputs": [
    {
     "name": "stdout",
     "output_type": "stream",
     "text": [
      "<QuerySet [<Task: Task object (1)>, <Task: Task object (2)>, <Task: Task object (3)>, <Task: Task object (4)>, <Task: Task object (5)>, <Task: Task object (6)>, <Task: Task object (7)>, <Task: Task object (8)>, <Task: Task object (9)>]>\n"
     ]
    }
   ],
   "source": [
    "tasks = Task.objects.all()\n",
    "\n",
    "print(tasks)"
   ]
  },
  {
   "cell_type": "code",
   "execution_count": 9,
   "id": "684b5e5c-7bbc-49bb-9f7c-efc9fbe400c5",
   "metadata": {},
   "outputs": [
    {
     "name": "stdout",
     "output_type": "stream",
     "text": [
      "SELECT \"orm_app_task\".\"id\", \"orm_app_task\".\"name\" FROM \"orm_app_task\"\n"
     ]
    }
   ],
   "source": [
    "print(tasks.query)"
   ]
  },
  {
   "cell_type": "code",
   "execution_count": 10,
   "id": "5e072bb1-2018-4be5-89a0-a57024cfd860",
   "metadata": {},
   "outputs": [
    {
     "name": "stdout",
     "output_type": "stream",
     "text": [
      "['__aiter__', '__and__', '__bool__', '__class__', '__class_getitem__', '__deepcopy__', '__delattr__', '__dict__', '__dir__', '__doc__', '__eq__', '__format__', '__ge__', '__getattribute__', '__getitem__', '__getstate__', '__gt__', '__hash__', '__init__', '__init_subclass__', '__iter__', '__le__', '__len__', '__lt__', '__module__', '__ne__', '__new__', '__or__', '__reduce__', '__reduce_ex__', '__repr__', '__setattr__', '__setstate__', '__sizeof__', '__str__', '__subclasshook__', '__weakref__', '__xor__', '_add_hints', '_annotate', '_batched_insert', '_chain', '_check_bulk_create_options', '_check_operator_queryset', '_check_ordering_first_last_queryset_aggregation', '_clone', '_combinator_query', '_db', '_defer_next_filter', '_deferred_filter', '_earliest', '_extract_model_params', '_fetch_all', '_fields', '_filter_or_exclude', '_filter_or_exclude_inplace', '_for_write', '_has_filters', '_hints', '_insert', '_iterable_class', '_iterator', '_known_related_objects', '_merge_known_related_objects', '_merge_sanity_check', '_next_is_sticky', '_not_support_combined_queries', '_prefetch_done', '_prefetch_related_lookups', '_prefetch_related_objects', '_prepare_for_bulk_create', '_query', '_raw_delete', '_result_cache', '_sticky_filter', '_update', '_validate_values_are_expressions', '_values', 'aaggregate', 'abulk_create', 'abulk_update', 'acontains', 'acount', 'acreate', 'adelete', 'aearliest', 'aexists', 'aexplain', 'afirst', 'aget', 'aget_or_create', 'aggregate', 'ain_bulk', 'aiterator', 'alast', 'alatest', 'alias', 'all', 'annotate', 'as_manager', 'aupdate', 'aupdate_or_create', 'bulk_create', 'bulk_update', 'complex_filter', 'contains', 'count', 'create', 'dates', 'datetimes', 'db', 'defer', 'delete', 'difference', 'distinct', 'earliest', 'exclude', 'exists', 'explain', 'extra', 'filter', 'first', 'get', 'get_or_create', 'in_bulk', 'intersection', 'iterator', 'last', 'latest', 'model', 'none', 'only', 'order_by', 'ordered', 'prefetch_related', 'query', 'raw', 'resolve_expression', 'reverse', 'select_for_update', 'select_related', 'union', 'update', 'update_or_create', 'using', 'values', 'values_list']\n"
     ]
    }
   ],
   "source": [
    "print(dir(tasks))"
   ]
  },
  {
   "cell_type": "code",
   "execution_count": 11,
   "id": "4e59a7c2-db59-461c-9d02-8721ee7e0784",
   "metadata": {},
   "outputs": [
    {
     "name": "stdout",
     "output_type": "stream",
     "text": [
      "<QuerySet [<Task: Task object (1)>, <Task: Task object (2)>, <Task: Task object (3)>, <Task: Task object (4)>, <Task: Task object (5)>, <Task: Task object (6)>, <Task: Task object (7)>, <Task: Task object (8)>, <Task: Task object (9)>]>\n"
     ]
    }
   ],
   "source": [
    "tasks = Task.objects.all().all().all()\n",
    "print(tasks)"
   ]
  },
  {
   "cell_type": "code",
   "execution_count": 12,
   "id": "487326de-b117-482c-ba1c-60aacb0432e7",
   "metadata": {},
   "outputs": [
    {
     "name": "stdout",
     "output_type": "stream",
     "text": [
      "SELECT \"orm_app_task\".\"id\", \"orm_app_task\".\"name\" FROM \"orm_app_task\" ORDER BY \"orm_app_task\".\"name\" ASC\n"
     ]
    }
   ],
   "source": [
    "tasks = Task.objects.all().order_by('name')\n",
    "print(tasks.query)"
   ]
  },
  {
   "cell_type": "code",
   "execution_count": 13,
   "id": "315c48e8-4af7-4d08-8f91-305044d826ba",
   "metadata": {},
   "outputs": [
    {
     "name": "stdout",
     "output_type": "stream",
     "text": [
      "Task object (1)\n",
      "<class 'orm_app.models.Task'>\n"
     ]
    }
   ],
   "source": [
    "task = Task.objects.first()\n",
    "print(task)\n",
    "print(type(task))"
   ]
  },
  {
   "cell_type": "code",
   "execution_count": 14,
   "id": "16018734-ad88-473a-8012-6f68f63232be",
   "metadata": {},
   "outputs": [
    {
     "name": "stdout",
     "output_type": "stream",
     "text": [
      "Task object (9)\n"
     ]
    }
   ],
   "source": [
    "task = Task.objects.last()\n",
    "print(task)"
   ]
  },
  {
   "cell_type": "code",
   "execution_count": 15,
   "id": "2364900a-5112-4486-855f-e2c708a1a4d0",
   "metadata": {},
   "outputs": [
    {
     "name": "stdout",
     "output_type": "stream",
     "text": [
      "Dodawanie\n"
     ]
    }
   ],
   "source": [
    "print(task.name)"
   ]
  },
  {
   "cell_type": "code",
   "execution_count": 16,
   "id": "6c78fb2f-a122-46be-b5e2-b943b3af0aad",
   "metadata": {},
   "outputs": [
    {
     "name": "stdout",
     "output_type": "stream",
     "text": [
      "<QuerySet [<Task: Task object (4)>, <Task: Task object (5)>]>\n"
     ]
    }
   ],
   "source": [
    "task = Task.objects.filter(name=\"Szukanie\")\n",
    "print(task)"
   ]
  },
  {
   "cell_type": "code",
   "execution_count": 17,
   "id": "3304f88c-3a12-4d0f-bf15-832f2ffabdbd",
   "metadata": {},
   "outputs": [
    {
     "name": "stdout",
     "output_type": "stream",
     "text": [
      "<QuerySet []>\n"
     ]
    }
   ],
   "source": [
    "task = Task.objects.filter(name=\"Coś czego nie ma w tabeli\")\n",
    "print(task)"
   ]
  },
  {
   "cell_type": "code",
   "execution_count": 18,
   "id": "00947424-e244-4121-be70-7b9ac5338e54",
   "metadata": {},
   "outputs": [
    {
     "name": "stdout",
     "output_type": "stream",
     "text": [
      "<QuerySet [<Task: Task object (6)>]>\n"
     ]
    }
   ],
   "source": [
    "task = Task.objects.filter(name=\"Programowanie\")\n",
    "print(task)"
   ]
  },
  {
   "cell_type": "code",
   "execution_count": 19,
   "id": "5aadf964-1c3b-46f1-a806-2b133c6af3b8",
   "metadata": {},
   "outputs": [
    {
     "name": "stdout",
     "output_type": "stream",
     "text": [
      "Task object (6)\n",
      "<class 'orm_app.models.Task'>\n"
     ]
    }
   ],
   "source": [
    "task = Task.objects.get(name=\"Programowanie\")\n",
    "print(task)\n",
    "print(type(task))"
   ]
  },
  {
   "cell_type": "code",
   "execution_count": 20,
   "id": "6b6c659e-df1e-4f98-83c1-983bb6bc2c7a",
   "metadata": {},
   "outputs": [
    {
     "ename": "DoesNotExist",
     "evalue": "Task matching query does not exist.",
     "output_type": "error",
     "traceback": [
      "\u001b[1;31m---------------------------------------------------------------------------\u001b[0m",
      "\u001b[1;31mDoesNotExist\u001b[0m                              Traceback (most recent call last)",
      "Cell \u001b[1;32mIn[20], line 1\u001b[0m\n\u001b[1;32m----> 1\u001b[0m task \u001b[38;5;241m=\u001b[39m \u001b[43mTask\u001b[49m\u001b[38;5;241;43m.\u001b[39;49m\u001b[43mobjects\u001b[49m\u001b[38;5;241;43m.\u001b[39;49m\u001b[43mget\u001b[49m\u001b[43m(\u001b[49m\u001b[43mname\u001b[49m\u001b[38;5;241;43m=\u001b[39;49m\u001b[38;5;124;43m\"\u001b[39;49m\u001b[38;5;124;43mCoś czego nie ma w tabeli\u001b[39;49m\u001b[38;5;124;43m\"\u001b[39;49m\u001b[43m)\u001b[49m\n",
      "File \u001b[1;32m~\\PycharmProjects\\bicycle\\venv\\Lib\\site-packages\\django\\db\\models\\manager.py:87\u001b[0m, in \u001b[0;36mBaseManager._get_queryset_methods.<locals>.create_method.<locals>.manager_method\u001b[1;34m(self, *args, **kwargs)\u001b[0m\n\u001b[0;32m     85\u001b[0m \u001b[38;5;129m@wraps\u001b[39m(method)\n\u001b[0;32m     86\u001b[0m \u001b[38;5;28;01mdef\u001b[39;00m \u001b[38;5;21mmanager_method\u001b[39m(\u001b[38;5;28mself\u001b[39m, \u001b[38;5;241m*\u001b[39margs, \u001b[38;5;241m*\u001b[39m\u001b[38;5;241m*\u001b[39mkwargs):\n\u001b[1;32m---> 87\u001b[0m     \u001b[38;5;28;01mreturn\u001b[39;00m \u001b[38;5;28;43mgetattr\u001b[39;49m\u001b[43m(\u001b[49m\u001b[38;5;28;43mself\u001b[39;49m\u001b[38;5;241;43m.\u001b[39;49m\u001b[43mget_queryset\u001b[49m\u001b[43m(\u001b[49m\u001b[43m)\u001b[49m\u001b[43m,\u001b[49m\u001b[43m \u001b[49m\u001b[43mname\u001b[49m\u001b[43m)\u001b[49m\u001b[43m(\u001b[49m\u001b[38;5;241;43m*\u001b[39;49m\u001b[43margs\u001b[49m\u001b[43m,\u001b[49m\u001b[43m \u001b[49m\u001b[38;5;241;43m*\u001b[39;49m\u001b[38;5;241;43m*\u001b[39;49m\u001b[43mkwargs\u001b[49m\u001b[43m)\u001b[49m\n",
      "File \u001b[1;32m~\\PycharmProjects\\bicycle\\venv\\Lib\\site-packages\\django\\db\\models\\query.py:649\u001b[0m, in \u001b[0;36mQuerySet.get\u001b[1;34m(self, *args, **kwargs)\u001b[0m\n\u001b[0;32m    647\u001b[0m     \u001b[38;5;28;01mreturn\u001b[39;00m clone\u001b[38;5;241m.\u001b[39m_result_cache[\u001b[38;5;241m0\u001b[39m]\n\u001b[0;32m    648\u001b[0m \u001b[38;5;28;01mif\u001b[39;00m \u001b[38;5;129;01mnot\u001b[39;00m num:\n\u001b[1;32m--> 649\u001b[0m     \u001b[38;5;28;01mraise\u001b[39;00m \u001b[38;5;28mself\u001b[39m\u001b[38;5;241m.\u001b[39mmodel\u001b[38;5;241m.\u001b[39mDoesNotExist(\n\u001b[0;32m    650\u001b[0m         \u001b[38;5;124m\"\u001b[39m\u001b[38;5;132;01m%s\u001b[39;00m\u001b[38;5;124m matching query does not exist.\u001b[39m\u001b[38;5;124m\"\u001b[39m \u001b[38;5;241m%\u001b[39m \u001b[38;5;28mself\u001b[39m\u001b[38;5;241m.\u001b[39mmodel\u001b[38;5;241m.\u001b[39m_meta\u001b[38;5;241m.\u001b[39mobject_name\n\u001b[0;32m    651\u001b[0m     )\n\u001b[0;32m    652\u001b[0m \u001b[38;5;28;01mraise\u001b[39;00m \u001b[38;5;28mself\u001b[39m\u001b[38;5;241m.\u001b[39mmodel\u001b[38;5;241m.\u001b[39mMultipleObjectsReturned(\n\u001b[0;32m    653\u001b[0m     \u001b[38;5;124m\"\u001b[39m\u001b[38;5;124mget() returned more than one \u001b[39m\u001b[38;5;132;01m%s\u001b[39;00m\u001b[38;5;124m -- it returned \u001b[39m\u001b[38;5;132;01m%s\u001b[39;00m\u001b[38;5;124m!\u001b[39m\u001b[38;5;124m\"\u001b[39m\n\u001b[0;32m    654\u001b[0m     \u001b[38;5;241m%\u001b[39m (\n\u001b[1;32m   (...)\u001b[0m\n\u001b[0;32m    657\u001b[0m     )\n\u001b[0;32m    658\u001b[0m )\n",
      "\u001b[1;31mDoesNotExist\u001b[0m: Task matching query does not exist."
     ]
    }
   ],
   "source": [
    "task = Task.objects.get(name=\"Coś czego nie ma w tabeli\")"
   ]
  },
  {
   "cell_type": "code",
   "execution_count": 21,
   "id": "60370c83-be64-4715-8130-267f9d2deee3",
   "metadata": {},
   "outputs": [
    {
     "ename": "MultipleObjectsReturned",
     "evalue": "get() returned more than one Task -- it returned 2!",
     "output_type": "error",
     "traceback": [
      "\u001b[1;31m---------------------------------------------------------------------------\u001b[0m",
      "\u001b[1;31mMultipleObjectsReturned\u001b[0m                   Traceback (most recent call last)",
      "Cell \u001b[1;32mIn[21], line 1\u001b[0m\n\u001b[1;32m----> 1\u001b[0m \u001b[43mTask\u001b[49m\u001b[38;5;241;43m.\u001b[39;49m\u001b[43mobjects\u001b[49m\u001b[38;5;241;43m.\u001b[39;49m\u001b[43mget\u001b[49m\u001b[43m(\u001b[49m\u001b[43mname\u001b[49m\u001b[38;5;241;43m=\u001b[39;49m\u001b[38;5;124;43m\"\u001b[39;49m\u001b[38;5;124;43mSzukanie\u001b[39;49m\u001b[38;5;124;43m\"\u001b[39;49m\u001b[43m)\u001b[49m\n",
      "File \u001b[1;32m~\\PycharmProjects\\bicycle\\venv\\Lib\\site-packages\\django\\db\\models\\manager.py:87\u001b[0m, in \u001b[0;36mBaseManager._get_queryset_methods.<locals>.create_method.<locals>.manager_method\u001b[1;34m(self, *args, **kwargs)\u001b[0m\n\u001b[0;32m     85\u001b[0m \u001b[38;5;129m@wraps\u001b[39m(method)\n\u001b[0;32m     86\u001b[0m \u001b[38;5;28;01mdef\u001b[39;00m \u001b[38;5;21mmanager_method\u001b[39m(\u001b[38;5;28mself\u001b[39m, \u001b[38;5;241m*\u001b[39margs, \u001b[38;5;241m*\u001b[39m\u001b[38;5;241m*\u001b[39mkwargs):\n\u001b[1;32m---> 87\u001b[0m     \u001b[38;5;28;01mreturn\u001b[39;00m \u001b[38;5;28;43mgetattr\u001b[39;49m\u001b[43m(\u001b[49m\u001b[38;5;28;43mself\u001b[39;49m\u001b[38;5;241;43m.\u001b[39;49m\u001b[43mget_queryset\u001b[49m\u001b[43m(\u001b[49m\u001b[43m)\u001b[49m\u001b[43m,\u001b[49m\u001b[43m \u001b[49m\u001b[43mname\u001b[49m\u001b[43m)\u001b[49m\u001b[43m(\u001b[49m\u001b[38;5;241;43m*\u001b[39;49m\u001b[43margs\u001b[49m\u001b[43m,\u001b[49m\u001b[43m \u001b[49m\u001b[38;5;241;43m*\u001b[39;49m\u001b[38;5;241;43m*\u001b[39;49m\u001b[43mkwargs\u001b[49m\u001b[43m)\u001b[49m\n",
      "File \u001b[1;32m~\\PycharmProjects\\bicycle\\venv\\Lib\\site-packages\\django\\db\\models\\query.py:652\u001b[0m, in \u001b[0;36mQuerySet.get\u001b[1;34m(self, *args, **kwargs)\u001b[0m\n\u001b[0;32m    648\u001b[0m \u001b[38;5;28;01mif\u001b[39;00m \u001b[38;5;129;01mnot\u001b[39;00m num:\n\u001b[0;32m    649\u001b[0m     \u001b[38;5;28;01mraise\u001b[39;00m \u001b[38;5;28mself\u001b[39m\u001b[38;5;241m.\u001b[39mmodel\u001b[38;5;241m.\u001b[39mDoesNotExist(\n\u001b[0;32m    650\u001b[0m         \u001b[38;5;124m\"\u001b[39m\u001b[38;5;132;01m%s\u001b[39;00m\u001b[38;5;124m matching query does not exist.\u001b[39m\u001b[38;5;124m\"\u001b[39m \u001b[38;5;241m%\u001b[39m \u001b[38;5;28mself\u001b[39m\u001b[38;5;241m.\u001b[39mmodel\u001b[38;5;241m.\u001b[39m_meta\u001b[38;5;241m.\u001b[39mobject_name\n\u001b[0;32m    651\u001b[0m     )\n\u001b[1;32m--> 652\u001b[0m \u001b[38;5;28;01mraise\u001b[39;00m \u001b[38;5;28mself\u001b[39m\u001b[38;5;241m.\u001b[39mmodel\u001b[38;5;241m.\u001b[39mMultipleObjectsReturned(\n\u001b[0;32m    653\u001b[0m     \u001b[38;5;124m\"\u001b[39m\u001b[38;5;124mget() returned more than one \u001b[39m\u001b[38;5;132;01m%s\u001b[39;00m\u001b[38;5;124m -- it returned \u001b[39m\u001b[38;5;132;01m%s\u001b[39;00m\u001b[38;5;124m!\u001b[39m\u001b[38;5;124m\"\u001b[39m\n\u001b[0;32m    654\u001b[0m     \u001b[38;5;241m%\u001b[39m (\n\u001b[0;32m    655\u001b[0m         \u001b[38;5;28mself\u001b[39m\u001b[38;5;241m.\u001b[39mmodel\u001b[38;5;241m.\u001b[39m_meta\u001b[38;5;241m.\u001b[39mobject_name,\n\u001b[0;32m    656\u001b[0m         num \u001b[38;5;28;01mif\u001b[39;00m \u001b[38;5;129;01mnot\u001b[39;00m limit \u001b[38;5;129;01mor\u001b[39;00m num \u001b[38;5;241m<\u001b[39m limit \u001b[38;5;28;01melse\u001b[39;00m \u001b[38;5;124m\"\u001b[39m\u001b[38;5;124mmore than \u001b[39m\u001b[38;5;132;01m%s\u001b[39;00m\u001b[38;5;124m\"\u001b[39m \u001b[38;5;241m%\u001b[39m (limit \u001b[38;5;241m-\u001b[39m \u001b[38;5;241m1\u001b[39m),\n\u001b[0;32m    657\u001b[0m     )\n\u001b[0;32m    658\u001b[0m )\n",
      "\u001b[1;31mMultipleObjectsReturned\u001b[0m: get() returned more than one Task -- it returned 2!"
     ]
    }
   ],
   "source": [
    "Task.objects.get(name=\"Szukanie\")"
   ]
  },
  {
   "cell_type": "code",
   "execution_count": 22,
   "id": "8dc39384-e84a-4123-81eb-b839f50ccf12",
   "metadata": {},
   "outputs": [
    {
     "name": "stdout",
     "output_type": "stream",
     "text": [
      "<QuerySet [<Task: Task object (6)>, <Task: Task object (8)>]>\n"
     ]
    }
   ],
   "source": [
    "tasks = Task.objects.filter(name__startswith=\"Pr\")\n",
    "print(tasks)"
   ]
  },
  {
   "cell_type": "code",
   "execution_count": 23,
   "id": "3dead39f-e3c0-4086-94c4-7afe11747ef3",
   "metadata": {},
   "outputs": [
    {
     "name": "stdout",
     "output_type": "stream",
     "text": [
      "SELECT \"orm_app_task\".\"id\", \"orm_app_task\".\"name\" FROM \"orm_app_task\" WHERE \"orm_app_task\".\"name\" LIKE Pr% ESCAPE '\\'\n"
     ]
    }
   ],
   "source": [
    "print(tasks.query)"
   ]
  },
  {
   "cell_type": "code",
   "execution_count": 24,
   "id": "93c63f61-2d41-4a5a-b38d-44ee442c23f8",
   "metadata": {},
   "outputs": [
    {
     "name": "stdout",
     "output_type": "stream",
     "text": [
      "<QuerySet [<Task: Task object (5)>, <Task: Task object (6)>, <Task: Task object (7)>, <Task: Task object (8)>, <Task: Task object (9)>]>\n"
     ]
    }
   ],
   "source": [
    "tasks = Task.objects.filter(id__gte=5)\n",
    "print(tasks)"
   ]
  },
  {
   "cell_type": "code",
   "execution_count": 25,
   "id": "b513f8ff-28a2-4064-b492-52971c2974d8",
   "metadata": {},
   "outputs": [
    {
     "name": "stdout",
     "output_type": "stream",
     "text": [
      "SELECT \"orm_app_task\".\"id\", \"orm_app_task\".\"name\" FROM \"orm_app_task\" WHERE \"orm_app_task\".\"id\" >= 5\n"
     ]
    }
   ],
   "source": [
    "# sql?\n",
    "print(tasks.query)"
   ]
  },
  {
   "cell_type": "code",
   "execution_count": 26,
   "id": "185221e6-6efe-4a7a-838d-1dd02b74996e",
   "metadata": {},
   "outputs": [
    {
     "name": "stdout",
     "output_type": "stream",
     "text": [
      "<QuerySet [<Task: Task object (3)>, <Task: Task object (6)>]>\n"
     ]
    }
   ],
   "source": [
    "tasks = Task.objects.filter(name__contains=\"ow\")\n",
    "print(tasks)"
   ]
  },
  {
   "cell_type": "code",
   "execution_count": 27,
   "id": "50ddebae-d110-4422-9b61-a90994d7f454",
   "metadata": {},
   "outputs": [
    {
     "name": "stdout",
     "output_type": "stream",
     "text": [
      "Task object (4)\n",
      "<class 'orm_app.models.Task'>\n"
     ]
    }
   ],
   "source": [
    "task = Task.objects.all()[3]\n",
    "print(task)\n",
    "print(type(task))  # instancja modelu"
   ]
  },
  {
   "cell_type": "code",
   "execution_count": 28,
   "id": "31f43284-b0ee-4385-b9d0-2079b21c2c23",
   "metadata": {},
   "outputs": [
    {
     "name": "stdout",
     "output_type": "stream",
     "text": [
      "<QuerySet [<Task: Task object (1)>, <Task: Task object (2)>, <Task: Task object (3)>, <Task: Task object (4)>, <Task: Task object (5)>]>\n"
     ]
    }
   ],
   "source": [
    "tasks = Task.objects.all()[:5]\n",
    "print(tasks)"
   ]
  },
  {
   "cell_type": "code",
   "execution_count": 29,
   "id": "40d4f2cb-319b-46f3-bd54-39229fb146a9",
   "metadata": {},
   "outputs": [
    {
     "name": "stdout",
     "output_type": "stream",
     "text": [
      "SELECT \"orm_app_task\".\"id\", \"orm_app_task\".\"name\" FROM \"orm_app_task\" LIMIT 5\n"
     ]
    }
   ],
   "source": [
    "# sql?\n",
    "print(tasks.query)"
   ]
  },
  {
   "cell_type": "code",
   "execution_count": 30,
   "id": "b45a3c2d-1670-4715-b5cd-6e7ea87fff14",
   "metadata": {},
   "outputs": [
    {
     "name": "stdout",
     "output_type": "stream",
     "text": [
      "<QuerySet [<Task: Task object (6)>, <Task: Task object (7)>, <Task: Task object (8)>, <Task: Task object (9)>]>\n"
     ]
    }
   ],
   "source": [
    "tasks = Task.objects.all()[5:]\n",
    "print(tasks)"
   ]
  },
  {
   "cell_type": "code",
   "execution_count": 31,
   "id": "bede140d-a835-4e70-ac7e-3d27609c328b",
   "metadata": {},
   "outputs": [
    {
     "name": "stdout",
     "output_type": "stream",
     "text": [
      "SELECT \"orm_app_task\".\"id\", \"orm_app_task\".\"name\" FROM \"orm_app_task\" LIMIT -1 OFFSET 5\n"
     ]
    }
   ],
   "source": [
    "# sql?\n",
    "print(tasks.query)"
   ]
  },
  {
   "cell_type": "code",
   "execution_count": 32,
   "id": "17450342-62c9-4d0a-b277-a04e91ebb023",
   "metadata": {},
   "outputs": [
    {
     "name": "stdout",
     "output_type": "stream",
     "text": [
      "[<Task: Task object (1)>, <Task: Task object (3)>, <Task: Task object (5)>, <Task: Task object (7)>, <Task: Task object (9)>]\n",
      "<class 'list'>\n"
     ]
    }
   ],
   "source": [
    "tasks = Task.objects.all()[::2]\n",
    "print(tasks)\n",
    "print(type(tasks))\n"
   ]
  },
  {
   "cell_type": "code",
   "execution_count": null,
   "id": "0e150e6c-0cc6-4ee4-a5ee-a40c747d0325",
   "metadata": {},
   "outputs": [],
   "source": []
  }
 ],
 "metadata": {
  "kernelspec": {
   "display_name": "Python 3 (ipykernel)",
   "language": "python",
   "name": "python3"
  },
  "language_info": {
   "codemirror_mode": {
    "name": "ipython",
    "version": 3
   },
   "file_extension": ".py",
   "mimetype": "text/x-python",
   "name": "python",
   "nbconvert_exporter": "python",
   "pygments_lexer": "ipython3",
   "version": "3.12.2"
  }
 },
 "nbformat": 4,
 "nbformat_minor": 5
}
